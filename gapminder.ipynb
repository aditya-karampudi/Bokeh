{
 "cells": [
  {
   "cell_type": "code",
   "execution_count": 1,
   "metadata": {
    "extensions": {
     "jupyter_dashboards": {
      "version": 1,
      "views": {
       "grid_default": {
        "hidden": true
       },
       "report_default": {}
      }
     }
    }
   },
   "outputs": [
    {
     "data": {
      "text/html": [
       "\n",
       "    <div class=\"bk-root\">\n",
       "        <a href=\"https://bokeh.pydata.org\" target=\"_blank\" class=\"bk-logo bk-logo-small bk-logo-notebook\"></a>\n",
       "        <span id=\"c0b94d1c-291d-4da4-abff-70d5b3cfc273\">Loading BokehJS ...</span>\n",
       "    </div>"
      ]
     },
     "metadata": {},
     "output_type": "display_data"
    },
    {
     "data": {
      "application/javascript": [
       "\n",
       "(function(root) {\n",
       "  function now() {\n",
       "    return new Date();\n",
       "  }\n",
       "\n",
       "  var force = true;\n",
       "\n",
       "  if (typeof (root._bokeh_onload_callbacks) === \"undefined\" || force === true) {\n",
       "    root._bokeh_onload_callbacks = [];\n",
       "    root._bokeh_is_loading = undefined;\n",
       "  }\n",
       "\n",
       "  var JS_MIME_TYPE = 'application/javascript';\n",
       "  var HTML_MIME_TYPE = 'text/html';\n",
       "  var EXEC_MIME_TYPE = 'application/vnd.bokehjs_exec.v0+json';\n",
       "  var CLASS_NAME = 'output_bokeh rendered_html';\n",
       "\n",
       "  /**\n",
       "   * Render data to the DOM node\n",
       "   */\n",
       "  function render(props, node) {\n",
       "    var script = document.createElement(\"script\");\n",
       "    node.appendChild(script);\n",
       "  }\n",
       "\n",
       "  /**\n",
       "   * Handle when an output is cleared or removed\n",
       "   */\n",
       "  function handleClearOutput(event, handle) {\n",
       "    var cell = handle.cell;\n",
       "\n",
       "    var id = cell.output_area._bokeh_element_id;\n",
       "    var server_id = cell.output_area._bokeh_server_id;\n",
       "    // Clean up Bokeh references\n",
       "    if (id !== undefined) {\n",
       "      Bokeh.index[id].model.document.clear();\n",
       "      delete Bokeh.index[id];\n",
       "    }\n",
       "\n",
       "    if (server_id !== undefined) {\n",
       "      // Clean up Bokeh references\n",
       "      var cmd = \"from bokeh.io.state import curstate; print(curstate().uuid_to_server['\" + server_id + \"'].get_sessions()[0].document.roots[0]._id)\";\n",
       "      cell.notebook.kernel.execute(cmd, {\n",
       "        iopub: {\n",
       "          output: function(msg) {\n",
       "            var element_id = msg.content.text.trim();\n",
       "            Bokeh.index[element_id].model.document.clear();\n",
       "            delete Bokeh.index[element_id];\n",
       "          }\n",
       "        }\n",
       "      });\n",
       "      // Destroy server and session\n",
       "      var cmd = \"import bokeh.io.notebook as ion; ion.destroy_server('\" + server_id + \"')\";\n",
       "      cell.notebook.kernel.execute(cmd);\n",
       "    }\n",
       "  }\n",
       "\n",
       "  /**\n",
       "   * Handle when a new output is added\n",
       "   */\n",
       "  function handleAddOutput(event, handle) {\n",
       "    var output_area = handle.output_area;\n",
       "    var output = handle.output;\n",
       "\n",
       "    // limit handleAddOutput to display_data with EXEC_MIME_TYPE content only\n",
       "    if ((output.output_type != \"display_data\") || (!output.data.hasOwnProperty(EXEC_MIME_TYPE))) {\n",
       "      return\n",
       "    }\n",
       "\n",
       "    var toinsert = output_area.element.find(`.${CLASS_NAME.split(' ')[0]}`);\n",
       "\n",
       "    if (output.metadata[EXEC_MIME_TYPE][\"id\"] !== undefined) {\n",
       "      toinsert[0].firstChild.textContent = output.data[JS_MIME_TYPE];\n",
       "      // store reference to embed id on output_area\n",
       "      output_area._bokeh_element_id = output.metadata[EXEC_MIME_TYPE][\"id\"];\n",
       "    }\n",
       "    if (output.metadata[EXEC_MIME_TYPE][\"server_id\"] !== undefined) {\n",
       "      var bk_div = document.createElement(\"div\");\n",
       "      bk_div.innerHTML = output.data[HTML_MIME_TYPE];\n",
       "      var script_attrs = bk_div.children[0].attributes;\n",
       "      for (var i = 0; i < script_attrs.length; i++) {\n",
       "        toinsert[0].firstChild.setAttribute(script_attrs[i].name, script_attrs[i].value);\n",
       "      }\n",
       "      // store reference to server id on output_area\n",
       "      output_area._bokeh_server_id = output.metadata[EXEC_MIME_TYPE][\"server_id\"];\n",
       "    }\n",
       "  }\n",
       "\n",
       "  function register_renderer(events, OutputArea) {\n",
       "\n",
       "    function append_mime(data, metadata, element) {\n",
       "      // create a DOM node to render to\n",
       "      var toinsert = this.create_output_subarea(\n",
       "        metadata,\n",
       "        CLASS_NAME,\n",
       "        EXEC_MIME_TYPE\n",
       "      );\n",
       "      this.keyboard_manager.register_events(toinsert);\n",
       "      // Render to node\n",
       "      var props = {data: data, metadata: metadata[EXEC_MIME_TYPE]};\n",
       "      render(props, toinsert[0]);\n",
       "      element.append(toinsert);\n",
       "      return toinsert\n",
       "    }\n",
       "\n",
       "    /* Handle when an output is cleared or removed */\n",
       "    events.on('clear_output.CodeCell', handleClearOutput);\n",
       "    events.on('delete.Cell', handleClearOutput);\n",
       "\n",
       "    /* Handle when a new output is added */\n",
       "    events.on('output_added.OutputArea', handleAddOutput);\n",
       "\n",
       "    /**\n",
       "     * Register the mime type and append_mime function with output_area\n",
       "     */\n",
       "    OutputArea.prototype.register_mime_type(EXEC_MIME_TYPE, append_mime, {\n",
       "      /* Is output safe? */\n",
       "      safe: true,\n",
       "      /* Index of renderer in `output_area.display_order` */\n",
       "      index: 0\n",
       "    });\n",
       "  }\n",
       "\n",
       "  // register the mime type if in Jupyter Notebook environment and previously unregistered\n",
       "  if (root.Jupyter !== undefined) {\n",
       "    var events = require('base/js/events');\n",
       "    var OutputArea = require('notebook/js/outputarea').OutputArea;\n",
       "\n",
       "    if (OutputArea.prototype.mime_types().indexOf(EXEC_MIME_TYPE) == -1) {\n",
       "      register_renderer(events, OutputArea);\n",
       "    }\n",
       "  }\n",
       "\n",
       "  \n",
       "  if (typeof (root._bokeh_timeout) === \"undefined\" || force === true) {\n",
       "    root._bokeh_timeout = Date.now() + 5000;\n",
       "    root._bokeh_failed_load = false;\n",
       "  }\n",
       "\n",
       "  var NB_LOAD_WARNING = {'data': {'text/html':\n",
       "     \"<div style='background-color: #fdd'>\\n\"+\n",
       "     \"<p>\\n\"+\n",
       "     \"BokehJS does not appear to have successfully loaded. If loading BokehJS from CDN, this \\n\"+\n",
       "     \"may be due to a slow or bad network connection. Possible fixes:\\n\"+\n",
       "     \"</p>\\n\"+\n",
       "     \"<ul>\\n\"+\n",
       "     \"<li>re-rerun `output_notebook()` to attempt to load from CDN again, or</li>\\n\"+\n",
       "     \"<li>use INLINE resources instead, as so:</li>\\n\"+\n",
       "     \"</ul>\\n\"+\n",
       "     \"<code>\\n\"+\n",
       "     \"from bokeh.resources import INLINE\\n\"+\n",
       "     \"output_notebook(resources=INLINE)\\n\"+\n",
       "     \"</code>\\n\"+\n",
       "     \"</div>\"}};\n",
       "\n",
       "  function display_loaded() {\n",
       "    var el = document.getElementById(\"c0b94d1c-291d-4da4-abff-70d5b3cfc273\");\n",
       "    if (el != null) {\n",
       "      el.textContent = \"BokehJS is loading...\";\n",
       "    }\n",
       "    if (root.Bokeh !== undefined) {\n",
       "      if (el != null) {\n",
       "        el.textContent = \"BokehJS \" + root.Bokeh.version + \" successfully loaded.\";\n",
       "      }\n",
       "    } else if (Date.now() < root._bokeh_timeout) {\n",
       "      setTimeout(display_loaded, 100)\n",
       "    }\n",
       "  }\n",
       "\n",
       "\n",
       "  function run_callbacks() {\n",
       "    try {\n",
       "      root._bokeh_onload_callbacks.forEach(function(callback) { callback() });\n",
       "    }\n",
       "    finally {\n",
       "      delete root._bokeh_onload_callbacks\n",
       "    }\n",
       "    console.info(\"Bokeh: all callbacks have finished\");\n",
       "  }\n",
       "\n",
       "  function load_libs(js_urls, callback) {\n",
       "    root._bokeh_onload_callbacks.push(callback);\n",
       "    if (root._bokeh_is_loading > 0) {\n",
       "      console.log(\"Bokeh: BokehJS is being loaded, scheduling callback at\", now());\n",
       "      return null;\n",
       "    }\n",
       "    if (js_urls == null || js_urls.length === 0) {\n",
       "      run_callbacks();\n",
       "      return null;\n",
       "    }\n",
       "    console.log(\"Bokeh: BokehJS not loaded, scheduling load and callback at\", now());\n",
       "    root._bokeh_is_loading = js_urls.length;\n",
       "    for (var i = 0; i < js_urls.length; i++) {\n",
       "      var url = js_urls[i];\n",
       "      var s = document.createElement('script');\n",
       "      s.src = url;\n",
       "      s.async = false;\n",
       "      s.onreadystatechange = s.onload = function() {\n",
       "        root._bokeh_is_loading--;\n",
       "        if (root._bokeh_is_loading === 0) {\n",
       "          console.log(\"Bokeh: all BokehJS libraries loaded\");\n",
       "          run_callbacks()\n",
       "        }\n",
       "      };\n",
       "      s.onerror = function() {\n",
       "        console.warn(\"failed to load library \" + url);\n",
       "      };\n",
       "      console.log(\"Bokeh: injecting script tag for BokehJS library: \", url);\n",
       "      document.getElementsByTagName(\"head\")[0].appendChild(s);\n",
       "    }\n",
       "  };var element = document.getElementById(\"c0b94d1c-291d-4da4-abff-70d5b3cfc273\");\n",
       "  if (element == null) {\n",
       "    console.log(\"Bokeh: ERROR: autoload.js configured with elementid 'c0b94d1c-291d-4da4-abff-70d5b3cfc273' but no matching script tag was found. \")\n",
       "    return false;\n",
       "  }\n",
       "\n",
       "  var js_urls = [\"https://cdn.pydata.org/bokeh/release/bokeh-0.12.10.min.js\", \"https://cdn.pydata.org/bokeh/release/bokeh-widgets-0.12.10.min.js\", \"https://cdn.pydata.org/bokeh/release/bokeh-tables-0.12.10.min.js\", \"https://cdn.pydata.org/bokeh/release/bokeh-gl-0.12.10.min.js\"];\n",
       "\n",
       "  var inline_js = [\n",
       "    function(Bokeh) {\n",
       "      Bokeh.set_log_level(\"info\");\n",
       "    },\n",
       "    \n",
       "    function(Bokeh) {\n",
       "      \n",
       "    },\n",
       "    function(Bokeh) {\n",
       "      console.log(\"Bokeh: injecting CSS: https://cdn.pydata.org/bokeh/release/bokeh-0.12.10.min.css\");\n",
       "      Bokeh.embed.inject_css(\"https://cdn.pydata.org/bokeh/release/bokeh-0.12.10.min.css\");\n",
       "      console.log(\"Bokeh: injecting CSS: https://cdn.pydata.org/bokeh/release/bokeh-widgets-0.12.10.min.css\");\n",
       "      Bokeh.embed.inject_css(\"https://cdn.pydata.org/bokeh/release/bokeh-widgets-0.12.10.min.css\");\n",
       "      console.log(\"Bokeh: injecting CSS: https://cdn.pydata.org/bokeh/release/bokeh-tables-0.12.10.min.css\");\n",
       "      Bokeh.embed.inject_css(\"https://cdn.pydata.org/bokeh/release/bokeh-tables-0.12.10.min.css\");\n",
       "    }\n",
       "  ];\n",
       "\n",
       "  function run_inline_js() {\n",
       "    \n",
       "    if ((root.Bokeh !== undefined) || (force === true)) {\n",
       "      for (var i = 0; i < inline_js.length; i++) {\n",
       "        inline_js[i].call(root, root.Bokeh);\n",
       "      }if (force === true) {\n",
       "        display_loaded();\n",
       "      }} else if (Date.now() < root._bokeh_timeout) {\n",
       "      setTimeout(run_inline_js, 100);\n",
       "    } else if (!root._bokeh_failed_load) {\n",
       "      console.log(\"Bokeh: BokehJS failed to load within specified timeout.\");\n",
       "      root._bokeh_failed_load = true;\n",
       "    } else if (force !== true) {\n",
       "      var cell = $(document.getElementById(\"c0b94d1c-291d-4da4-abff-70d5b3cfc273\")).parents('.cell').data().cell;\n",
       "      cell.output_area.append_execute_result(NB_LOAD_WARNING)\n",
       "    }\n",
       "\n",
       "  }\n",
       "\n",
       "  if (root._bokeh_is_loading === 0) {\n",
       "    console.log(\"Bokeh: BokehJS loaded, going straight to plotting\");\n",
       "    run_inline_js();\n",
       "  } else {\n",
       "    load_libs(js_urls, function() {\n",
       "      console.log(\"Bokeh: BokehJS plotting callback run at\", now());\n",
       "      run_inline_js();\n",
       "    });\n",
       "  }\n",
       "}(window));"
      ],
      "application/vnd.bokehjs_load.v0+json": "\n(function(root) {\n  function now() {\n    return new Date();\n  }\n\n  var force = true;\n\n  if (typeof (root._bokeh_onload_callbacks) === \"undefined\" || force === true) {\n    root._bokeh_onload_callbacks = [];\n    root._bokeh_is_loading = undefined;\n  }\n\n  \n\n  \n  if (typeof (root._bokeh_timeout) === \"undefined\" || force === true) {\n    root._bokeh_timeout = Date.now() + 5000;\n    root._bokeh_failed_load = false;\n  }\n\n  var NB_LOAD_WARNING = {'data': {'text/html':\n     \"<div style='background-color: #fdd'>\\n\"+\n     \"<p>\\n\"+\n     \"BokehJS does not appear to have successfully loaded. If loading BokehJS from CDN, this \\n\"+\n     \"may be due to a slow or bad network connection. Possible fixes:\\n\"+\n     \"</p>\\n\"+\n     \"<ul>\\n\"+\n     \"<li>re-rerun `output_notebook()` to attempt to load from CDN again, or</li>\\n\"+\n     \"<li>use INLINE resources instead, as so:</li>\\n\"+\n     \"</ul>\\n\"+\n     \"<code>\\n\"+\n     \"from bokeh.resources import INLINE\\n\"+\n     \"output_notebook(resources=INLINE)\\n\"+\n     \"</code>\\n\"+\n     \"</div>\"}};\n\n  function display_loaded() {\n    var el = document.getElementById(\"c0b94d1c-291d-4da4-abff-70d5b3cfc273\");\n    if (el != null) {\n      el.textContent = \"BokehJS is loading...\";\n    }\n    if (root.Bokeh !== undefined) {\n      if (el != null) {\n        el.textContent = \"BokehJS \" + root.Bokeh.version + \" successfully loaded.\";\n      }\n    } else if (Date.now() < root._bokeh_timeout) {\n      setTimeout(display_loaded, 100)\n    }\n  }\n\n\n  function run_callbacks() {\n    try {\n      root._bokeh_onload_callbacks.forEach(function(callback) { callback() });\n    }\n    finally {\n      delete root._bokeh_onload_callbacks\n    }\n    console.info(\"Bokeh: all callbacks have finished\");\n  }\n\n  function load_libs(js_urls, callback) {\n    root._bokeh_onload_callbacks.push(callback);\n    if (root._bokeh_is_loading > 0) {\n      console.log(\"Bokeh: BokehJS is being loaded, scheduling callback at\", now());\n      return null;\n    }\n    if (js_urls == null || js_urls.length === 0) {\n      run_callbacks();\n      return null;\n    }\n    console.log(\"Bokeh: BokehJS not loaded, scheduling load and callback at\", now());\n    root._bokeh_is_loading = js_urls.length;\n    for (var i = 0; i < js_urls.length; i++) {\n      var url = js_urls[i];\n      var s = document.createElement('script');\n      s.src = url;\n      s.async = false;\n      s.onreadystatechange = s.onload = function() {\n        root._bokeh_is_loading--;\n        if (root._bokeh_is_loading === 0) {\n          console.log(\"Bokeh: all BokehJS libraries loaded\");\n          run_callbacks()\n        }\n      };\n      s.onerror = function() {\n        console.warn(\"failed to load library \" + url);\n      };\n      console.log(\"Bokeh: injecting script tag for BokehJS library: \", url);\n      document.getElementsByTagName(\"head\")[0].appendChild(s);\n    }\n  };var element = document.getElementById(\"c0b94d1c-291d-4da4-abff-70d5b3cfc273\");\n  if (element == null) {\n    console.log(\"Bokeh: ERROR: autoload.js configured with elementid 'c0b94d1c-291d-4da4-abff-70d5b3cfc273' but no matching script tag was found. \")\n    return false;\n  }\n\n  var js_urls = [\"https://cdn.pydata.org/bokeh/release/bokeh-0.12.10.min.js\", \"https://cdn.pydata.org/bokeh/release/bokeh-widgets-0.12.10.min.js\", \"https://cdn.pydata.org/bokeh/release/bokeh-tables-0.12.10.min.js\", \"https://cdn.pydata.org/bokeh/release/bokeh-gl-0.12.10.min.js\"];\n\n  var inline_js = [\n    function(Bokeh) {\n      Bokeh.set_log_level(\"info\");\n    },\n    \n    function(Bokeh) {\n      \n    },\n    function(Bokeh) {\n      console.log(\"Bokeh: injecting CSS: https://cdn.pydata.org/bokeh/release/bokeh-0.12.10.min.css\");\n      Bokeh.embed.inject_css(\"https://cdn.pydata.org/bokeh/release/bokeh-0.12.10.min.css\");\n      console.log(\"Bokeh: injecting CSS: https://cdn.pydata.org/bokeh/release/bokeh-widgets-0.12.10.min.css\");\n      Bokeh.embed.inject_css(\"https://cdn.pydata.org/bokeh/release/bokeh-widgets-0.12.10.min.css\");\n      console.log(\"Bokeh: injecting CSS: https://cdn.pydata.org/bokeh/release/bokeh-tables-0.12.10.min.css\");\n      Bokeh.embed.inject_css(\"https://cdn.pydata.org/bokeh/release/bokeh-tables-0.12.10.min.css\");\n    }\n  ];\n\n  function run_inline_js() {\n    \n    if ((root.Bokeh !== undefined) || (force === true)) {\n      for (var i = 0; i < inline_js.length; i++) {\n        inline_js[i].call(root, root.Bokeh);\n      }if (force === true) {\n        display_loaded();\n      }} else if (Date.now() < root._bokeh_timeout) {\n      setTimeout(run_inline_js, 100);\n    } else if (!root._bokeh_failed_load) {\n      console.log(\"Bokeh: BokehJS failed to load within specified timeout.\");\n      root._bokeh_failed_load = true;\n    } else if (force !== true) {\n      var cell = $(document.getElementById(\"c0b94d1c-291d-4da4-abff-70d5b3cfc273\")).parents('.cell').data().cell;\n      cell.output_area.append_execute_result(NB_LOAD_WARNING)\n    }\n\n  }\n\n  if (root._bokeh_is_loading === 0) {\n    console.log(\"Bokeh: BokehJS loaded, going straight to plotting\");\n    run_inline_js();\n  } else {\n    load_libs(js_urls, function() {\n      console.log(\"Bokeh: BokehJS plotting callback run at\", now());\n      run_inline_js();\n    });\n  }\n}(window));"
     },
     "metadata": {},
     "output_type": "display_data"
    }
   ],
   "source": [
    "import pandas as pd\n",
    "import numpy as np\n",
    "from bokeh.io import show\n",
    "from bokeh.plotting import figure\n",
    "from bokeh.models import NumeralTickFormatter\n",
    "from bokeh.io import output_notebook\n",
    "output_notebook()"
   ]
  },
  {
   "cell_type": "code",
   "execution_count": 2,
   "metadata": {
    "extensions": {
     "jupyter_dashboards": {
      "version": 1,
      "views": {
       "grid_default": {
        "col": 0,
        "height": 11,
        "hidden": false,
        "row": 0,
        "width": 5
       },
       "report_default": {}
      }
     }
    }
   },
   "outputs": [
    {
     "data": {
      "text/html": [
       "<div>\n",
       "<style scoped>\n",
       "    .dataframe tbody tr th:only-of-type {\n",
       "        vertical-align: middle;\n",
       "    }\n",
       "\n",
       "    .dataframe tbody tr th {\n",
       "        vertical-align: top;\n",
       "    }\n",
       "\n",
       "    .dataframe thead th {\n",
       "        text-align: right;\n",
       "    }\n",
       "</style>\n",
       "<table border=\"1\" class=\"dataframe\">\n",
       "  <thead>\n",
       "    <tr style=\"text-align: right;\">\n",
       "      <th></th>\n",
       "      <th>Country</th>\n",
       "      <th>life</th>\n",
       "      <th>population</th>\n",
       "      <th>income</th>\n",
       "      <th>region</th>\n",
       "    </tr>\n",
       "    <tr>\n",
       "      <th>Year</th>\n",
       "      <th></th>\n",
       "      <th></th>\n",
       "      <th></th>\n",
       "      <th></th>\n",
       "      <th></th>\n",
       "    </tr>\n",
       "  </thead>\n",
       "  <tbody>\n",
       "    <tr>\n",
       "      <th>1800</th>\n",
       "      <td>Afghanistan</td>\n",
       "      <td>28.211000</td>\n",
       "      <td>3280000.0</td>\n",
       "      <td>603.0</td>\n",
       "      <td>South Asia</td>\n",
       "    </tr>\n",
       "    <tr>\n",
       "      <th>1801</th>\n",
       "      <td>Afghanistan</td>\n",
       "      <td>28.200753</td>\n",
       "      <td>NaN</td>\n",
       "      <td>603.0</td>\n",
       "      <td>South Asia</td>\n",
       "    </tr>\n",
       "    <tr>\n",
       "      <th>1802</th>\n",
       "      <td>Afghanistan</td>\n",
       "      <td>28.190507</td>\n",
       "      <td>NaN</td>\n",
       "      <td>603.0</td>\n",
       "      <td>South Asia</td>\n",
       "    </tr>\n",
       "    <tr>\n",
       "      <th>1803</th>\n",
       "      <td>Afghanistan</td>\n",
       "      <td>28.180260</td>\n",
       "      <td>NaN</td>\n",
       "      <td>603.0</td>\n",
       "      <td>South Asia</td>\n",
       "    </tr>\n",
       "    <tr>\n",
       "      <th>1804</th>\n",
       "      <td>Afghanistan</td>\n",
       "      <td>28.170013</td>\n",
       "      <td>NaN</td>\n",
       "      <td>603.0</td>\n",
       "      <td>South Asia</td>\n",
       "    </tr>\n",
       "  </tbody>\n",
       "</table>\n",
       "</div>"
      ],
      "text/plain": [
       "          Country       life  population  income      region\n",
       "Year                                                        \n",
       "1800  Afghanistan  28.211000   3280000.0   603.0  South Asia\n",
       "1801  Afghanistan  28.200753         NaN   603.0  South Asia\n",
       "1802  Afghanistan  28.190507         NaN   603.0  South Asia\n",
       "1803  Afghanistan  28.180260         NaN   603.0  South Asia\n",
       "1804  Afghanistan  28.170013         NaN   603.0  South Asia"
      ]
     },
     "execution_count": 2,
     "metadata": {},
     "output_type": "execute_result"
    }
   ],
   "source": [
    "data = pd.read_csv(\"gapminder.csv\", index_col='Year', thousands =',')\n",
    "data.head()"
   ]
  },
  {
   "cell_type": "code",
   "execution_count": 3,
   "metadata": {
    "extensions": {
     "jupyter_dashboards": {
      "version": 1,
      "views": {
       "grid_default": {
        "col": 5,
        "height": 5,
        "hidden": false,
        "row": 4,
        "width": 4
       },
       "report_default": {}
      }
     }
    },
    "scrolled": false
   },
   "outputs": [
    {
     "data": {
      "text/plain": [
       "Year\n",
       "2010    27962207.0\n",
       "2010     2901883.0\n",
       "2010    36036159.0\n",
       "2010       84419.0\n",
       "2010    21219954.0\n",
       "Name: population, dtype: float64"
      ]
     },
     "execution_count": 3,
     "metadata": {},
     "output_type": "execute_result"
    }
   ],
   "source": [
    "data.loc[2010].population.head()"
   ]
  },
  {
   "cell_type": "code",
   "execution_count": 4,
   "metadata": {
    "extensions": {
     "jupyter_dashboards": {
      "version": 1,
      "views": {
       "grid_default": {
        "col": 5,
        "height": 10,
        "hidden": false,
        "row": 9,
        "width": 7
       },
       "report_default": {}
      }
     }
    }
   },
   "outputs": [
    {
     "data": {
      "text/html": [
       "\n",
       "<div class=\"bk-root\">\n",
       "    <div class=\"bk-plotdiv\" id=\"f718a49b-4277-4c38-ab69-9e7cc8d8992a\"></div>\n",
       "</div>"
      ]
     },
     "metadata": {},
     "output_type": "display_data"
    },
    {
     "data": {
      "application/javascript": [
       "(function(root) {\n",
       "  function embed_document(root) {\n",
       "    var docs_json = {\"2d5c3fc4-9ce0-43bc-bd59-d0402061992d\":{\"roots\":{\"references\":[{\"attributes\":{\"source\":{\"id\":\"cee62a68-c30f-49e1-9b17-29cb00cc97d6\",\"type\":\"ColumnDataSource\"}},\"id\":\"b2a17ed0-1f38-4ddc-9eb6-469c7e3c0fb4\",\"type\":\"CDSView\"},{\"attributes\":{\"overlay\":{\"id\":\"5f446518-8ddc-496e-877e-602b8fc79077\",\"type\":\"BoxAnnotation\"}},\"id\":\"649c3dea-51a7-4efa-b0d1-8eaaba55f5d0\",\"type\":\"BoxZoomTool\"},{\"attributes\":{\"plot\":null,\"text\":\"\"},\"id\":\"fcefa092-6a16-4e86-b90c-5c493fb6c890\",\"type\":\"Title\"},{\"attributes\":{\"dimension\":1,\"plot\":{\"id\":\"69612616-0ada-4c05-9108-820e80b70ddf\",\"subtype\":\"Figure\",\"type\":\"Plot\"},\"ticker\":{\"id\":\"8fe788b8-672f-4a9b-90cb-0a90cb14e777\",\"type\":\"BasicTicker\"}},\"id\":\"7c3efb06-686f-4a1b-9ba0-ba51e57fb855\",\"type\":\"Grid\"},{\"attributes\":{\"bottom_units\":\"screen\",\"fill_alpha\":{\"value\":0.5},\"fill_color\":{\"value\":\"lightgrey\"},\"left_units\":\"screen\",\"level\":\"overlay\",\"line_alpha\":{\"value\":1.0},\"line_color\":{\"value\":\"black\"},\"line_dash\":[4,4],\"line_width\":{\"value\":2},\"plot\":null,\"render_mode\":\"css\",\"right_units\":\"screen\",\"top_units\":\"screen\"},\"id\":\"5f446518-8ddc-496e-877e-602b8fc79077\",\"type\":\"BoxAnnotation\"},{\"attributes\":{\"callback\":null,\"column_names\":[\"x\",\"y\"],\"data\":{\"x\":{\"__ndarray__\":\"AAAAAACUmUAAAAAAAE/CQAAAAAAAZ8hAAAAAAMAI40AAAAAAAIe7QAAAAADAFdRAAAAAAIDKzkAAAAAAAGy5QAAAAABALuRAAAAAAKDt5EAAAAAAACfPQAAAAADAYNZAAAAAACDN40AAAAAAADajQAAAAACA4M1AAAAAAICrzkAAAAAAgOfjQAAAAACACMBAAAAAAACUmUAAAAAAAHS5QAAAAAAAn7RAAAAAAIDcwUAAAAAAAKXKQAAAAAAAosxAAAAAAMA+8UAAAAAAABPNQAAAAAAAXJZAAAAAAACohkAAAAAAAKKjQAAAAAAAFqRAAAAAAKDo40AAAAAAAHW3QAAAAAAAhJ5AAAAAAADB0kAAAAAAAGvCQAAAAACADMVAAAAAAABIlkAAAAAAAMCDQAAAAAAAnbVAAAAAAAARyEAAAAAAAJimQAAAAABAhdNAAAAAAEAL0kAAAAAAYHrgQAAAAACg/uRAAAAAAADSpEAAAAAAgEPEQAAAAACAL8JAAAAAAIC7xEAAAAAAAEW8QAAAAADgz+BAAAAAAADskEAAAAAAgDPVQAAAAAAA5JBAAAAAAAC6u0AAAAAAIEDjQAAAAAAg8eFAAAAAAAA3z0AAAAAAAAyaQAAAAAAAMrdAAAAAAADX40AAAAAAACaoQAAAAACAgdxAAAAAAADVxUAAAAAAAMG6QAAAAAAAhJJAAAAAAABglUAAAAAAAKa1QAAAAAAAuJdAAAAAAACusEAAAAAAgIvVQAAAAAAg8+JAAAAAAADDsUAAAAAAAJnAQAAAAAAAldBAAAAAAAAVyEAAAAAAgGrlQAAAAABA0dxAAAAAACB14UAAAAAAAFnAQAAAAACAzOBAAAAAAAD8xUAAAAAAQCTTQAAAAAAAjqNAAAAAAAAEm0AAAAAAUGbyQAAAAAAAudFAAAAAAIDDz0AAAAAAAHahQAAAAAAAiIVAAAAAAECN3UAAAAAAgEXUQAAAAACwQPZAAAAAAIDVxUAAAAAAALiVQAAAAAAACIdAAAAAAIDr00AAAAAAAM3GQAAAAAAAAJpAAAAAAIBA20AAAAAAAHSrQAAAAAAAxqlAAAAAAIB3zkAAAAAAADLOQAAAAAAAEqpAAAAAAACqrkAAAAAAABy+QAAAAAAArMpAAAAAAABCuUAAAAAAABCNQAAAAAAACqhAAAAAAIB4wEAAAAAAADyfQAAAAABgYuZAAAAAAAAU30AAAAAAAPyuQAAAAAAASIpAAAAAAAD6s0AAAAAAQLzuQAAAAACABOhAAAAAAAB8sEAAAAAAgCTNQAAAAAAA5qBAAAAAAABgu0AAAAAAgF3DQAAAAAAA7rVAAAAAAADU1EAAAAAAQMDaQAAAAAAAP/9AAAAAAAB+0EAAAAAAACjVQAAAAAAAuJNAAAAAAAAdtUAAAAAAAG6lQAAAAADAQ+ZAAAAAAAAMoUAAAAAAgAbIQAAAAAAA49NAAAAAAAAMlUAAAAAAgJfxQAAAAACA3ddAAAAAAEC220AAAAAAAOybQAAAAAAAMINAAAAAAICbx0AAAAAAAPytQAAAAABAHOBAAAAAAACUvUAAAAAAAKSpQAAAAACA+stAAAAAAADmtkAAAAAAQPLkQAAAAADgdOpAAAAAAADLuUAAAAAAoBXjQAAAAAAAfKBAAAAAAAC+oEAAAAAAAAvJQAAAAAAAxJtAAAAAAAB4k0AAAAAAAFGzQAAAAABAotxAAAAAAIBVxEAAAAAAgEjQQAAAAAAAmMNAAAAAAACsl0AAAAAAAKS+QAAAAACAqOtAAAAAAACy4UAAAAAAoBvoQAAAAADAsdBAAAAAAABZsEAAAAAAAAinQAAAAAAAJtBAAAAAAACGsUAAAAAAAEOwQAAAAAAA9qpAAAAAAAAwl0A=\",\"dtype\":\"float64\",\"shape\":[178]},\"y\":{\"__ndarray__\":\"ZmZmZmZmS0DNzMzMzMxSQJqZmZmZ+VJAzczMzMzsVEAzMzMzM7NNQM3MzMzMzFJAMzMzMzPzUkCamZmZmTlSQM3MzMzMbFRAAAAAAAAgVECamZmZmdlRQJqZmZmZGVJAzczMzMyMU0BmZmZmZiZRQJqZmZmZ2VJAzczMzMyMUUAzMzMzM/NTQGZmZmZmhlFAAAAAAAAAUEAzMzMzMxNRQDMzMzMz01FAAAAAAAAgU0AAAAAAACBQQM3MzMzMjFJAAAAAAACgU0BmZmZmZmZSQJqZmZmZWU5AmpmZmZlZTUCamZmZmblQQAAAAAAAwExAZmZmZmZGVECamZmZmVlSQJqZmZmZGUxAMzMzMzOzU0CamZmZmflSQDMzMzMz01JAAAAAAACAT0BmZmZmZiZMQGZmZmZmJk5AZmZmZmbmU0CamZmZmZlMQM3MzMzMTFNAAAAAAACAU0BmZmZmZmZUQDMzMzMz01NAZmZmZmbmTkCamZmZmZlSQM3MzMzMjFJAMzMzMzOTUUAzMzMzM3NSQJqZmZmZmUxAAAAAAACATkAzMzMzM/NSQAAAAAAAgE5AmpmZmZl5UEAAAAAAAABUQM3MzMzMTFRAAAAAAADATEAAAAAAAIBPQJqZmZmZGVJAzczMzMwMVEAAAAAAAMBPQGZmZmZm5lNAzczMzMzMUUAzMzMzM7NRQM3MzMzMjE1AAAAAAAAASkBmZmZmZqZPQAAAAAAAgEJAMzMzMzPTUUDNzMzMzKxSQAAAAAAAoFRAZmZmZmZGUEAzMzMzM3NRQJqZmZmZeVNAMzMzMzMTUUCamZmZmflTQAAAAAAAYFRAmpmZmZl5VEAAAAAAAOBSQAAAAAAAwFRAZmZmZmZmU0BmZmZmZsZQQM3MzMzMjE9AAAAAAADATkBmZmZmZsZTQAAAAAAAgFJAAAAAAACAU0AzMzMzM7NHQJqZmZmZ2U5AZmZmZmbmUkCamZmZmXlSQAAAAAAAQFRAMzMzMzPzUkBmZmZmZuZPQGZmZmZm5kpAMzMzMzOTUkCamZmZmblTQAAAAAAAQExAMzMzMzNzVEBmZmZmZgZQQM3MzMzMDFBAmpmZmZkZUkDNzMzMzOxSQJqZmZmZmVBAzczMzMyMUUBmZmZmZuZPQM3MzMzMzFJAzczMzMxsUkCamZmZmdlLQAAAAAAAgFBAAAAAAADATUAAAAAAAGBRQAAAAAAAIFRAAAAAAAAgVEAzMzMzM/NSQJqZmZmZWU5AZmZmZmZmTUCamZmZmTlUQAAAAAAAwFJAzczMzMwsUEDNzMzMzExTQJqZmZmZWU1AmpmZmZlZUkAzMzMzMzNTQM3MzMzMbFFAZmZmZmYGU0AAAAAAAOBTQDMzMzMzU1RAAAAAAACAUkDNzMzMzCxRQJqZmZmZ2U9AZmZmZmbmUUBmZmZmZuZQQM3MzMzMbFNAAAAAAABAUEAAAAAAAEBTQDMzMzMzM1JAAAAAAABATEAAAAAAAGBUQAAAAAAA4FJAAAAAAADgU0AAAAAAAIBPQDMzMzMzc0xAmpmZmZlZTEAAAAAAAEBMQGZmZmZmZlRAzczMzMzsUkAAAAAAAABRQAAAAAAAYFFAZmZmZmbmR0AAAAAAAGBUQDMzMzMzk1RAzczMzMwsU0AzMzMzM7NTQJqZmZmZeVFAMzMzMzNzTkBmZmZmZqZSQDMzMzMzc1FAAAAAAACATkBmZmZmZoZRQGZmZmZmxlFAMzMzMzMzU0DNzMzMzOxSQGZmZmZmplBAMzMzMzMzTUCamZmZmZlRQM3MzMzMDFNAAAAAAAAAVEAAAAAAAKBTQAAAAAAAIFNAZmZmZmZGUUAAAAAAAABQQM3MzMzMrFJAMzMzMzPzUkAAAAAAAIBSQM3MzMzMDEtAMzMzMzMzSUA=\",\"dtype\":\"float64\",\"shape\":[178]}}},\"id\":\"cee62a68-c30f-49e1-9b17-29cb00cc97d6\",\"type\":\"ColumnDataSource\"},{\"attributes\":{\"format\":\"0,\"},\"id\":\"7eff3638-e672-4642-a6df-ca15c98187b2\",\"type\":\"NumeralTickFormatter\"},{\"attributes\":{\"below\":[{\"id\":\"c586f93f-5809-4d8d-a201-5c3fc1ad29cb\",\"type\":\"LogAxis\"}],\"left\":[{\"id\":\"891deb69-646f-403d-90b5-4f9918968e8f\",\"type\":\"LinearAxis\"}],\"plot_height\":250,\"renderers\":[{\"id\":\"c586f93f-5809-4d8d-a201-5c3fc1ad29cb\",\"type\":\"LogAxis\"},{\"id\":\"cd2a715a-7ed8-447f-89cb-5c3dc465a7a5\",\"type\":\"Grid\"},{\"id\":\"891deb69-646f-403d-90b5-4f9918968e8f\",\"type\":\"LinearAxis\"},{\"id\":\"7c3efb06-686f-4a1b-9ba0-ba51e57fb855\",\"type\":\"Grid\"},{\"id\":\"5f446518-8ddc-496e-877e-602b8fc79077\",\"type\":\"BoxAnnotation\"},{\"id\":\"56473ead-c0e6-42e7-b617-95b0849929d9\",\"type\":\"GlyphRenderer\"}],\"title\":{\"id\":\"fcefa092-6a16-4e86-b90c-5c493fb6c890\",\"type\":\"Title\"},\"toolbar\":{\"id\":\"c0400dc7-e2bf-41e7-93d0-551e751bbfad\",\"type\":\"Toolbar\"},\"x_range\":{\"id\":\"95aed396-85f6-43f8-9160-15754ee53f10\",\"type\":\"Range1d\"},\"x_scale\":{\"id\":\"5c6a5915-a66d-4d83-84ad-f969149a1311\",\"type\":\"LogScale\"},\"y_range\":{\"id\":\"6407dd00-6adf-419d-a2ce-92610c2f3fc1\",\"type\":\"Range1d\"},\"y_scale\":{\"id\":\"2d2dfb6c-b9d0-4fde-b0f5-7e5d476844dd\",\"type\":\"LinearScale\"}},\"id\":\"69612616-0ada-4c05-9108-820e80b70ddf\",\"subtype\":\"Figure\",\"type\":\"Plot\"},{\"attributes\":{},\"id\":\"4690d8fb-c9db-41da-9232-d7dc1931deb9\",\"type\":\"PanTool\"},{\"attributes\":{\"format\":\"0$,\"},\"id\":\"beb96021-ac77-4fd8-b8b8-899ace615b7d\",\"type\":\"NumeralTickFormatter\"},{\"attributes\":{},\"id\":\"ac9d3420-30de-4262-8e5f-18836e126673\",\"type\":\"ResetTool\"},{\"attributes\":{\"active_drag\":\"auto\",\"active_inspect\":\"auto\",\"active_scroll\":\"auto\",\"active_tap\":\"auto\",\"tools\":[{\"id\":\"4690d8fb-c9db-41da-9232-d7dc1931deb9\",\"type\":\"PanTool\"},{\"id\":\"b5b618e5-1a9a-487b-9e3b-fc3bf547192a\",\"type\":\"WheelZoomTool\"},{\"id\":\"649c3dea-51a7-4efa-b0d1-8eaaba55f5d0\",\"type\":\"BoxZoomTool\"},{\"id\":\"88d13eda-d625-4922-8796-973fe04390ea\",\"type\":\"SaveTool\"},{\"id\":\"ac9d3420-30de-4262-8e5f-18836e126673\",\"type\":\"ResetTool\"},{\"id\":\"3a13833e-6198-4cd0-90e5-530522a39b87\",\"type\":\"HelpTool\"}]},\"id\":\"c0400dc7-e2bf-41e7-93d0-551e751bbfad\",\"type\":\"Toolbar\"},{\"attributes\":{},\"id\":\"b5b618e5-1a9a-487b-9e3b-fc3bf547192a\",\"type\":\"WheelZoomTool\"},{\"attributes\":{\"fill_color\":{\"value\":\"firebrick\"},\"line_color\":{\"value\":\"firebrick\"},\"size\":{\"units\":\"screen\",\"value\":6},\"x\":{\"field\":\"x\"},\"y\":{\"field\":\"y\"}},\"id\":\"fda309de-c77e-4504-b023-3a2754e80d68\",\"type\":\"Diamond\"},{\"attributes\":{\"callback\":null,\"end\":100000,\"start\":100},\"id\":\"95aed396-85f6-43f8-9160-15754ee53f10\",\"type\":\"Range1d\"},{\"attributes\":{},\"id\":\"88d13eda-d625-4922-8796-973fe04390ea\",\"type\":\"SaveTool\"},{\"attributes\":{},\"id\":\"3a13833e-6198-4cd0-90e5-530522a39b87\",\"type\":\"HelpTool\"},{\"attributes\":{\"num_minor_ticks\":10},\"id\":\"c05dc3df-9cd1-4fcd-b1a2-fa5ce436a00d\",\"type\":\"LogTicker\"},{\"attributes\":{\"fill_alpha\":{\"value\":0.1},\"fill_color\":{\"value\":\"#1f77b4\"},\"line_alpha\":{\"value\":0.1},\"line_color\":{\"value\":\"#1f77b4\"},\"size\":{\"units\":\"screen\",\"value\":6},\"x\":{\"field\":\"x\"},\"y\":{\"field\":\"y\"}},\"id\":\"172d675d-0148-4cd3-ae53-f62be115dfcb\",\"type\":\"Diamond\"},{\"attributes\":{\"callback\":null,\"end\":100},\"id\":\"6407dd00-6adf-419d-a2ce-92610c2f3fc1\",\"type\":\"Range1d\"},{\"attributes\":{},\"id\":\"8fe788b8-672f-4a9b-90cb-0a90cb14e777\",\"type\":\"BasicTicker\"},{\"attributes\":{},\"id\":\"2d2dfb6c-b9d0-4fde-b0f5-7e5d476844dd\",\"type\":\"LinearScale\"},{\"attributes\":{\"plot\":{\"id\":\"69612616-0ada-4c05-9108-820e80b70ddf\",\"subtype\":\"Figure\",\"type\":\"Plot\"},\"ticker\":{\"id\":\"c05dc3df-9cd1-4fcd-b1a2-fa5ce436a00d\",\"type\":\"LogTicker\"}},\"id\":\"cd2a715a-7ed8-447f-89cb-5c3dc465a7a5\",\"type\":\"Grid\"},{\"attributes\":{\"data_source\":{\"id\":\"cee62a68-c30f-49e1-9b17-29cb00cc97d6\",\"type\":\"ColumnDataSource\"},\"glyph\":{\"id\":\"fda309de-c77e-4504-b023-3a2754e80d68\",\"type\":\"Diamond\"},\"hover_glyph\":null,\"muted_glyph\":null,\"nonselection_glyph\":{\"id\":\"172d675d-0148-4cd3-ae53-f62be115dfcb\",\"type\":\"Diamond\"},\"selection_glyph\":null,\"view\":{\"id\":\"b2a17ed0-1f38-4ddc-9eb6-469c7e3c0fb4\",\"type\":\"CDSView\"}},\"id\":\"56473ead-c0e6-42e7-b617-95b0849929d9\",\"type\":\"GlyphRenderer\"},{\"attributes\":{},\"id\":\"5c6a5915-a66d-4d83-84ad-f969149a1311\",\"type\":\"LogScale\"},{\"attributes\":{\"formatter\":{\"id\":\"beb96021-ac77-4fd8-b8b8-899ace615b7d\",\"type\":\"NumeralTickFormatter\"},\"plot\":{\"id\":\"69612616-0ada-4c05-9108-820e80b70ddf\",\"subtype\":\"Figure\",\"type\":\"Plot\"},\"ticker\":{\"id\":\"c05dc3df-9cd1-4fcd-b1a2-fa5ce436a00d\",\"type\":\"LogTicker\"}},\"id\":\"c586f93f-5809-4d8d-a201-5c3fc1ad29cb\",\"type\":\"LogAxis\"},{\"attributes\":{\"formatter\":{\"id\":\"7eff3638-e672-4642-a6df-ca15c98187b2\",\"type\":\"NumeralTickFormatter\"},\"plot\":{\"id\":\"69612616-0ada-4c05-9108-820e80b70ddf\",\"subtype\":\"Figure\",\"type\":\"Plot\"},\"ticker\":{\"id\":\"8fe788b8-672f-4a9b-90cb-0a90cb14e777\",\"type\":\"BasicTicker\"}},\"id\":\"891deb69-646f-403d-90b5-4f9918968e8f\",\"type\":\"LinearAxis\"}],\"root_ids\":[\"69612616-0ada-4c05-9108-820e80b70ddf\"]},\"title\":\"Bokeh Application\",\"version\":\"0.12.10\"}};\n",
       "    var render_items = [{\"docid\":\"2d5c3fc4-9ce0-43bc-bd59-d0402061992d\",\"elementid\":\"f718a49b-4277-4c38-ab69-9e7cc8d8992a\",\"modelid\":\"69612616-0ada-4c05-9108-820e80b70ddf\"}];\n",
       "\n",
       "    root.Bokeh.embed.embed_items(docs_json, render_items);\n",
       "  }\n",
       "\n",
       "  if (root.Bokeh !== undefined) {\n",
       "    embed_document(root);\n",
       "  } else {\n",
       "    var attempts = 0;\n",
       "    var timer = setInterval(function(root) {\n",
       "      if (root.Bokeh !== undefined) {\n",
       "        embed_document(root);\n",
       "        clearInterval(timer);\n",
       "      }\n",
       "      attempts++;\n",
       "      if (attempts > 100) {\n",
       "        console.log(\"Bokeh: ERROR: Unable to embed document because BokehJS library is missing\")\n",
       "        clearInterval(timer);\n",
       "      }\n",
       "    }, 10, root)\n",
       "  }\n",
       "})(window);"
      ],
      "application/vnd.bokehjs_exec.v0+json": ""
     },
     "metadata": {
      "application/vnd.bokehjs_exec.v0+json": {
       "id": "69612616-0ada-4c05-9108-820e80b70ddf"
      }
     },
     "output_type": "display_data"
    }
   ],
   "source": [
    "p = figure(height =250, x_axis_type='log',x_range=(100,100000), y_range=(0,100))   #dimensions of chart\n",
    "p.diamond(x=data.loc[2010].income, y = data.loc[2010].life, color='firebrick',size=6)  #what data and how should it be represented\n",
    "p.xaxis[0].formatter = NumeralTickFormatter(format=\"0$,\")  #naming of x axis\n",
    "p.yaxis[0].formatter = NumeralTickFormatter(format=\"0,\")   #labels on y-axis\n",
    "show(p)"
   ]
  },
  {
   "cell_type": "markdown",
   "metadata": {
    "extensions": {
     "jupyter_dashboards": {
      "version": 1,
      "views": {
       "grid_default": {
        "col": 0,
        "height": 4,
        "hidden": false,
        "row": 15,
        "width": 4
       },
       "report_default": {}
      }
     }
    }
   },
   "source": [
    "#for hover title\n",
    "\n",
    "from bokeh.models import ColumnDataSource\n",
    "source = ColumnDataSource(dict(\n",
    "    x= data.loc[2010].income,\n",
    "    y= data.loc[2010].life,\n",
    "    country = data.loc[2010].Country,    \n",
    "    population = data.loc[2010].population,\n",
    "    region = data.loc[2010].region,\n",
    "    income = data.loc[2010].income\n",
    "        \n",
    "    ))\n",
    "source.column_names\n",
    "\n"
   ]
  },
  {
   "cell_type": "code",
   "execution_count": 5,
   "metadata": {
    "extensions": {
     "jupyter_dashboards": {
      "version": 1,
      "views": {
       "grid_default": {
        "col": 4,
        "height": 11,
        "hidden": false,
        "row": 35,
        "width": 7
       },
       "report_default": {}
      }
     }
    },
    "scrolled": true
   },
   "outputs": [
    {
     "data": {
      "text/html": [
       "\n",
       "<div class=\"bk-root\">\n",
       "    <div class=\"bk-plotdiv\" id=\"81d55448-2a8b-4449-b93f-8398b67a2e1e\"></div>\n",
       "</div>"
      ]
     },
     "metadata": {},
     "output_type": "display_data"
    },
    {
     "data": {
      "application/javascript": [
       "(function(root) {\n",
       "  function embed_document(root) {\n",
       "    var docs_json = {\"f1ecc2b4-44fd-4e3d-911c-61c1369b4168\":{\"roots\":{\"references\":[{\"attributes\":{\"callback\":null,\"end\":182668.0,\"start\":142.0},\"id\":\"6d94beff-4b5c-4a2c-9162-d96665f2c09d\",\"type\":\"Range1d\"},{\"attributes\":{\"border_line_color\":{\"value\":null},\"items\":[{\"id\":\"60af6bdb-23af-4b23-8fc1-4ec655d2f1c7\",\"type\":\"LegendItem\"}],\"location\":[0,-70],\"plot\":{\"id\":\"98c81c85-8fd0-43b4-98bf-81279ed6f38e\",\"subtype\":\"Figure\",\"type\":\"Plot\"}},\"id\":\"71281ad0-85f9-4823-90bf-37f116458aa9\",\"type\":\"Legend\"},{\"attributes\":{\"num_minor_ticks\":10},\"id\":\"c03eb962-5d0a-46f9-bae5-c89eabb1c377\",\"type\":\"LogTicker\"},{\"attributes\":{\"active_drag\":\"auto\",\"active_inspect\":\"auto\",\"active_scroll\":\"auto\",\"active_tap\":\"auto\",\"tools\":[{\"id\":\"cac6beac-909c-4d06-9433-c8e6b393b968\",\"type\":\"HoverTool\"}]},\"id\":\"12503970-172e-4d4a-bb16-7fcf4bd7a60f\",\"type\":\"Toolbar\"},{\"attributes\":{\"callback\":null,\"end\":90,\"start\":15},\"id\":\"99a43e7f-86f1-4c13-b8cb-7359d4a8cfe3\",\"type\":\"Range1d\"},{\"attributes\":{\"data\":null,\"x\":[1548.0,1376048943.0],\"y\":[5,50]},\"id\":\"7b05718f-4b9d-42e8-9c58-d50bcc813c47\",\"type\":\"LinearInterpolator\"},{\"attributes\":{\"label\":{\"field\":\"region\"},\"renderers\":[{\"id\":\"104b2f27-8eb6-4bd0-8614-b280fd12411a\",\"type\":\"GlyphRenderer\"}]},\"id\":\"60af6bdb-23af-4b23-8fc1-4ec655d2f1c7\",\"type\":\"LegendItem\"},{\"attributes\":{},\"id\":\"14b22c50-6bfe-4a2e-880c-00b5c04c9760\",\"type\":\"LinearScale\"},{\"attributes\":{\"plot\":{\"id\":\"98c81c85-8fd0-43b4-98bf-81279ed6f38e\",\"subtype\":\"Figure\",\"type\":\"Plot\"},\"ticker\":{\"id\":\"c03eb962-5d0a-46f9-bae5-c89eabb1c377\",\"type\":\"LogTicker\"}},\"id\":\"ddafbe16-6b6b-4a31-9518-4dd8b7702eb1\",\"type\":\"Grid\"},{\"attributes\":{},\"id\":\"b97049e9-60b6-4a70-ac91-32ad2c0c1038\",\"type\":\"LogScale\"},{\"attributes\":{\"formatter\":{\"id\":\"201f7aca-74c5-4ef8-8ba6-20c7892f842e\",\"type\":\"NumeralTickFormatter\"},\"plot\":{\"id\":\"98c81c85-8fd0-43b4-98bf-81279ed6f38e\",\"subtype\":\"Figure\",\"type\":\"Plot\"},\"ticker\":{\"id\":\"c03eb962-5d0a-46f9-bae5-c89eabb1c377\",\"type\":\"LogTicker\"}},\"id\":\"ebe777a8-47e2-46f5-92a0-fb30e6617375\",\"type\":\"LogAxis\"},{\"attributes\":{\"formatter\":{\"id\":\"ce51d6ac-9dc2-400f-876d-93192c3b1089\",\"type\":\"BasicTickFormatter\"},\"plot\":{\"id\":\"98c81c85-8fd0-43b4-98bf-81279ed6f38e\",\"subtype\":\"Figure\",\"type\":\"Plot\"},\"ticker\":{\"id\":\"50cc4996-2419-4cb0-9a63-3743a3638dac\",\"type\":\"BasicTicker\"}},\"id\":\"1954169f-48b3-4944-9027-b5f5d219b16f\",\"type\":\"LinearAxis\"},{\"attributes\":{\"callback\":null,\"column_names\":[\"x\",\"y\",\"country\",\"population\",\"region\",\"income\"],\"data\":{\"country\":[\"Afghanistan\",\"Albania\",\"Algeria\",\"Andorra\",\"Angola\",\"Antigua and Barbuda\",\"Argentina\",\"Armenia\",\"Australia\",\"Austria\",\"Azerbaijan\",\"Bahamas\",\"Bahrain\",\"Bangladesh\",\"Barbados\",\"Belarus\",\"Belgium\",\"Belize\",\"Benin\",\"Bhutan\",\"Bolivia\",\"Bosnia and Herzegovina\",\"Botswana\",\"Brazil\",\"Brunei\",\"Bulgaria\",\"Burkina Faso\",\"Burundi\",\"Cambodia\",\"Cameroon\",\"Canada\",\"Cape Verde\",\"Chad\",\"Chile\",\"China\",\"Colombia\",\"Comoros\",\"Congo, Dem. Rep.\",\"Congo, Rep.\",\"Costa Rica\",\"Cote d'Ivoire\",\"Croatia\",\"Cuba\",\"Cyprus\",\"Denmark\",\"Djibouti\",\"Dominica\",\"Ecuador\",\"Egypt\",\"El Salvador\",\"Equatorial Guinea\",\"Eritrea\",\"Estonia\",\"Ethiopia\",\"Fiji\",\"Finland\",\"France\",\"Gabon\",\"Gambia\",\"Georgia\",\"Germany\",\"Ghana\",\"Greece\",\"Grenada\",\"Guatemala\",\"Guinea\",\"Guinea-Bissau\",\"Guyana\",\"Haiti\",\"Honduras\",\"Hungary\",\"Iceland\",\"India\",\"Indonesia\",\"Iran\",\"Iraq\",\"Ireland\",\"Israel\",\"Italy\",\"Jamaica\",\"Japan\",\"Jordan\",\"Kazakhstan\",\"Kenya\",\"Kiribati\",\"Kuwait\",\"Latvia\",\"Lebanon\",\"Lesotho\",\"Liberia\",\"Libya\",\"Lithuania\",\"Luxembourg\",\"Macedonia, FYR\",\"Madagascar\",\"Malawi\",\"Malaysia\",\"Maldives\",\"Mali\",\"Malta\",\"Marshall Islands\",\"Mauritania\",\"Mauritius\",\"Mexico\",\"Micronesia, Fed. Sts.\",\"Moldova\",\"Mongolia\",\"Montenegro\",\"Morocco\",\"Mozambique\",\"Myanmar\",\"Namibia\",\"Nepal\",\"Netherlands\",\"New Zealand\",\"Nicaragua\",\"Niger\",\"Nigeria\",\"Norway\",\"Oman\",\"Pakistan\",\"Panama\",\"Papua New Guinea\",\"Paraguay\",\"Peru\",\"Philippines\",\"Poland\",\"Portugal\",\"Qatar\",\"Romania\",\"Russia\",\"Rwanda\",\"Samoa\",\"Sao Tome and Principe\",\"Saudi Arabia\",\"Senegal\",\"Serbia\",\"Seychelles\",\"Sierra Leone\",\"Singapore\",\"Slovak Republic\",\"Slovenia\",\"Solomon Islands\",\"Somalia\",\"South Africa\",\"South Sudan\",\"Spain\",\"Sri Lanka\",\"Sudan\",\"Suriname\",\"Swaziland\",\"Sweden\",\"Switzerland\",\"Syria\",\"Taiwan\",\"Tajikistan\",\"Tanzania\",\"Thailand\",\"Timor-Leste\",\"Togo\",\"Tonga\",\"Trinidad and Tobago\",\"Tunisia\",\"Turkey\",\"Turkmenistan\",\"Uganda\",\"Ukraine\",\"United Arab Emirates\",\"United Kingdom\",\"United States\",\"Uruguay\",\"Uzbekistan\",\"Vanuatu\",\"Venezuela\",\"Vietnam\",\"West Bank and Gaza\",\"Zambia\",\"Zimbabwe\"],\"income\":{\"__ndarray__\":\"AAAAAACUmUAAAAAAAE/CQAAAAAAAZ8hAAAAAAMAI40AAAAAAAIe7QAAAAADAFdRAAAAAAIDKzkAAAAAAAGy5QAAAAABALuRAAAAAAKDt5EAAAAAAACfPQAAAAADAYNZAAAAAACDN40AAAAAAADajQAAAAACA4M1AAAAAAICrzkAAAAAAgOfjQAAAAACACMBAAAAAAACUmUAAAAAAAHS5QAAAAAAAn7RAAAAAAIDcwUAAAAAAAKXKQAAAAAAAosxAAAAAAMA+8UAAAAAAABPNQAAAAAAAXJZAAAAAAACohkAAAAAAAKKjQAAAAAAAFqRAAAAAAKDo40AAAAAAAHW3QAAAAAAAhJ5AAAAAAADB0kAAAAAAAGvCQAAAAACADMVAAAAAAABIlkAAAAAAAMCDQAAAAAAAnbVAAAAAAAARyEAAAAAAAJimQAAAAABAhdNAAAAAAEAL0kAAAAAAYHrgQAAAAACg/uRAAAAAAADSpEAAAAAAgEPEQAAAAACAL8JAAAAAAIC7xEAAAAAAAEW8QAAAAADgz+BAAAAAAADskEAAAAAAgDPVQAAAAAAA5JBAAAAAAAC6u0AAAAAAIEDjQAAAAAAg8eFAAAAAAAA3z0AAAAAAAAyaQAAAAAAAMrdAAAAAAADX40AAAAAAACaoQAAAAACAgdxAAAAAAADVxUAAAAAAAMG6QAAAAAAAhJJAAAAAAABglUAAAAAAAKa1QAAAAAAAuJdAAAAAAACusEAAAAAAgIvVQAAAAAAg8+JAAAAAAADDsUAAAAAAAJnAQAAAAAAAldBAAAAAAAAVyEAAAAAAgGrlQAAAAABA0dxAAAAAACB14UAAAAAAAFnAQAAAAACAzOBAAAAAAAD8xUAAAAAAQCTTQAAAAAAAjqNAAAAAAAAEm0AAAAAAUGbyQAAAAAAAudFAAAAAAIDDz0AAAAAAAHahQAAAAAAAiIVAAAAAAECN3UAAAAAAgEXUQAAAAACwQPZAAAAAAIDVxUAAAAAAALiVQAAAAAAACIdAAAAAAIDr00AAAAAAAM3GQAAAAAAAAJpAAAAAAIBA20AAAAAAAHSrQAAAAAAAxqlAAAAAAIB3zkAAAAAAADLOQAAAAAAAEqpAAAAAAACqrkAAAAAAABy+QAAAAAAArMpAAAAAAABCuUAAAAAAABCNQAAAAAAACqhAAAAAAIB4wEAAAAAAADyfQAAAAABgYuZAAAAAAAAU30AAAAAAAPyuQAAAAAAASIpAAAAAAAD6s0AAAAAAQLzuQAAAAACABOhAAAAAAAB8sEAAAAAAgCTNQAAAAAAA5qBAAAAAAABgu0AAAAAAgF3DQAAAAAAA7rVAAAAAAADU1EAAAAAAQMDaQAAAAAAAP/9AAAAAAAB+0EAAAAAAACjVQAAAAAAAuJNAAAAAAAAdtUAAAAAAAG6lQAAAAADAQ+ZAAAAAAAAMoUAAAAAAgAbIQAAAAAAA49NAAAAAAAAMlUAAAAAAgJfxQAAAAACA3ddAAAAAAEC220AAAAAAAOybQAAAAAAAMINAAAAAAICbx0AAAAAAAPytQAAAAABAHOBAAAAAAACUvUAAAAAAAKSpQAAAAACA+stAAAAAAADmtkAAAAAAQPLkQAAAAADgdOpAAAAAAADLuUAAAAAAoBXjQAAAAAAAfKBAAAAAAAC+oEAAAAAAAAvJQAAAAAAAxJtAAAAAAAB4k0AAAAAAAFGzQAAAAABAotxAAAAAAIBVxEAAAAAAgEjQQAAAAAAAmMNAAAAAAACsl0AAAAAAAKS+QAAAAACAqOtAAAAAAACy4UAAAAAAoBvoQAAAAADAsdBAAAAAAABZsEAAAAAAAAinQAAAAAAAJtBAAAAAAACGsUAAAAAAAEOwQAAAAAAA9qpAAAAAAAAwl0A=\",\"dtype\":\"float64\",\"shape\":[178]},\"population\":{\"__ndarray__\":\"AAAA8LWqekEAAACAvSNGQQAAAPjxLoFBAAAAADCc9EAAAAAgpzx0QQAAAAAQTPVAAAAA2Baog0EAAAAAFJxGQQAAAPDaInVBAAAAQKYBYEEAAACgTlthQQAAAAD4BRZBAAAAAAc/M0EAAAAS+hKiQQAAAAA4EBFBAAAAQNMaYkEAAABA59hkQQAAAAAkoRNBAAAAwHQjYkEAAAAA7PolQQAAAKDk6mJBAAAAAL1CTUEAAAAAVz8/QQAAAIA5radBAAAAAFgBGEEAAABAsEFcQQAAAEDY0G1BAAAAoK8LYkEAAABAeGVrQQAAAKAEo3NBAAAA6MpFgEEAAAAALO4dQQAAAIDHsGZBAAAAgBA6cEEAAEDIY/vTQQAAAKg85YVBAAAAAI5SJUEAAADAKHGPQQAAAACPBU9BAAAAQL5WUUEAAACw9zJzQQAAAEBCd1BBAAAAoIyRZUEAAAAARdcwQQAAAMDbLFVBAAAAAKRaKUEAAAAA8F/xQAAAAIBUfGxBAAAAiGKPk0EAAACAyAhXQQAAAAAMPSZBAAAAAMDjUUEAAAAAeVM0QQAAAFhZ4JRBAAAAAGA+KkEAAABA43lUQQAAAICvBY5BAAAAADCHN0EAAAAAStU5QQAAAACFNlBBAAAArGEtk0EAAABg8jB3QQAAAKDEUWVBAAAAAFCO+UAAAACgfBlsQQAAAMAmAWVBAAAAAJTvOEEAAAAApP0mQQAAACCgEmNBAAAAwACgXEEAAAAg9RljQQAAAABoaRNBAAAATtVX0kEAAACMcs2sQQAAAPQQtJFBAAAAwCtwfUEAAACAHZ1RQQAAAAB0TlxBAAAAOO1pjEEAAACAAupEQQAAAOj7Wp5BAAAAACbdWEEAAAAALBxvQQAAAMjjOoNBAAAAAIAP+UAAAACAiFdHQQAAAAAX5j9BAAAAAIGLUEEAAAAA2q0+QQAAAABzMk5BAAAAQNjmV0EAAACASdNHQQAAAADE/x5BAAAAAGt4P0EAAADAXhp0QQAAAADUK2xBAAAAwBzRekEAAAAAfEwUQQAAAMDm7WxBAAAAAIAmGUEAAAAAgJnpQAAAAAB0ZktBAAAAAM8KM0EAAAAY10ecQQAAAAAwTPlAAAAAgIEpT0EAAACAKLJEQQAAAAAA+yJBAAAAsM2efkEAAAAQ2zF3QQAAAKgQq4hBAAAAgHW8QEEAAABggKF5QQAAAGDiuG9BAAAAwKCqUEEAAACAPuNVQQAAAMASE29BAAAAzEEBo0EAAADAnKhSQQAAAICBdUZBAAAAHFRFpEEAAAAATZ9LQQAAAEAHH1pBAAAAQFWwV0EAAADATAN8QQAAANikLpZBAAAA0NJkgkEAAACgYDBkQQAAAACJ8DpBAAAAYMVbc0EAAACm1hChQQAAAKA0omNBAAAAAGi1BkEAAAAAANwEQQAAAHARynpBAAAA4I62aEEAAADAXEdhQQAAAACQufZAAAAAgIcIVkEAAABA7F9TQQAAAAAsoFRBAAAAAIBRP0EAAAAAwg4gQQAAAECSRmJBAAAA0HadiEEAAABgYy5jQQAAAKCoOIZBAAAAAPZDc0EAAAAojjiBQQAAAAD0nx9BAAAAALw0MkEAAAAgM+VhQQAAAIAB311BAAAAoL3Cc0EAAACAVvV1QQAAAAAA7FxBAAAAaFTEhUEAAADAHc2PQQAAAABiITBBAAAAwBBhWEEAAAAAsGD5QAAAAADfQzRBAAAAQOtKZEEAAABAej2RQQAAAMDSO1NBAAAAkB6df0EAAABINMSFQQAAAEA7xl9BAAAAYNjnjUEAAADKVXiyQQAAAACnvklBAAAAQGd0ekEAAAAAWNgMQQAAABAKp3tBAAAAPO4QlUEAAAAA1gpPQQAAAOCfi2pBAAAAIDGnakE=\",\"dtype\":\"float64\",\"shape\":[178]},\"region\":[\"South Asia\",\"Europe & Central Asia\",\"Middle East & North Africa\",\"Europe & Central Asia\",\"Sub-Saharan Africa\",\"America\",\"America\",\"Europe & Central Asia\",\"East Asia & Pacific\",\"Europe & Central Asia\",\"Europe & Central Asia\",\"America\",\"Middle East & North Africa\",\"South Asia\",\"America\",\"Europe & Central Asia\",\"Europe & Central Asia\",\"America\",\"Sub-Saharan Africa\",\"South Asia\",\"America\",\"Europe & Central Asia\",\"Sub-Saharan Africa\",\"America\",\"East Asia & Pacific\",\"Europe & Central Asia\",\"Sub-Saharan Africa\",\"Sub-Saharan Africa\",\"East Asia & Pacific\",\"Sub-Saharan Africa\",\"America\",\"Sub-Saharan Africa\",\"Sub-Saharan Africa\",\"America\",\"East Asia & Pacific\",\"America\",\"Sub-Saharan Africa\",\"Sub-Saharan Africa\",\"Sub-Saharan Africa\",\"America\",\"Sub-Saharan Africa\",\"Europe & Central Asia\",\"America\",\"Europe & Central Asia\",\"Europe & Central Asia\",\"Middle East & North Africa\",\"America\",\"America\",\"Middle East & North Africa\",\"America\",\"Sub-Saharan Africa\",\"Sub-Saharan Africa\",\"Europe & Central Asia\",\"Sub-Saharan Africa\",\"East Asia & Pacific\",\"Europe & Central Asia\",\"Europe & Central Asia\",\"Sub-Saharan Africa\",\"Sub-Saharan Africa\",\"Europe & Central Asia\",\"Europe & Central Asia\",\"Sub-Saharan Africa\",\"Europe & Central Asia\",\"America\",\"America\",\"Sub-Saharan Africa\",\"Sub-Saharan Africa\",\"America\",\"America\",\"America\",\"Europe & Central Asia\",\"Europe & Central Asia\",\"South Asia\",\"East Asia & Pacific\",\"Middle East & North Africa\",\"Middle East & North Africa\",\"Europe & Central Asia\",\"Middle East & North Africa\",\"Europe & Central Asia\",\"America\",\"East Asia & Pacific\",\"Middle East & North Africa\",\"Europe & Central Asia\",\"Sub-Saharan Africa\",\"East Asia & Pacific\",\"Middle East & North Africa\",\"Europe & Central Asia\",\"Middle East & North Africa\",\"Sub-Saharan Africa\",\"Sub-Saharan Africa\",\"Middle East & North Africa\",\"Europe & Central Asia\",\"Europe & Central Asia\",\"Europe & Central Asia\",\"Sub-Saharan Africa\",\"Sub-Saharan Africa\",\"East Asia & Pacific\",\"South Asia\",\"Sub-Saharan Africa\",\"Europe & Central Asia\",\"East Asia & Pacific\",\"Sub-Saharan Africa\",\"Sub-Saharan Africa\",\"America\",\"East Asia & Pacific\",\"Europe & Central Asia\",\"East Asia & Pacific\",\"Europe & Central Asia\",\"Middle East & North Africa\",\"Sub-Saharan Africa\",\"East Asia & Pacific\",\"Sub-Saharan Africa\",\"South Asia\",\"Europe & Central Asia\",\"East Asia & Pacific\",\"America\",\"Sub-Saharan Africa\",\"Sub-Saharan Africa\",\"Europe & Central Asia\",\"Middle East & North Africa\",\"South Asia\",\"America\",\"East Asia & Pacific\",\"America\",\"America\",\"East Asia & Pacific\",\"Europe & Central Asia\",\"Europe & Central Asia\",\"Middle East & North Africa\",\"Europe & Central Asia\",\"Europe & Central Asia\",\"Sub-Saharan Africa\",\"East Asia & Pacific\",\"Sub-Saharan Africa\",\"Middle East & North Africa\",\"Sub-Saharan Africa\",\"Europe & Central Asia\",\"Sub-Saharan Africa\",\"Sub-Saharan Africa\",\"East Asia & Pacific\",\"Europe & Central Asia\",\"Europe & Central Asia\",\"East Asia & Pacific\",\"Sub-Saharan Africa\",\"Sub-Saharan Africa\",\"Sub-Saharan Africa\",\"Europe & Central Asia\",\"South Asia\",\"Sub-Saharan Africa\",\"America\",\"Sub-Saharan Africa\",\"Europe & Central Asia\",\"Europe & Central Asia\",\"Middle East & North Africa\",\"East Asia & Pacific\",\"Europe & Central Asia\",\"Sub-Saharan Africa\",\"East Asia & Pacific\",\"East Asia & Pacific\",\"Sub-Saharan Africa\",\"East Asia & Pacific\",\"America\",\"Middle East & North Africa\",\"Europe & Central Asia\",\"Europe & Central Asia\",\"Sub-Saharan Africa\",\"Europe & Central Asia\",\"Middle East & North Africa\",\"Europe & Central Asia\",\"America\",\"America\",\"Europe & Central Asia\",\"East Asia & Pacific\",\"America\",\"East Asia & Pacific\",\"Middle East & North Africa\",\"Sub-Saharan Africa\",\"Sub-Saharan Africa\"],\"x\":{\"__ndarray__\":\"AAAAAACUmUAAAAAAAE/CQAAAAAAAZ8hAAAAAAMAI40AAAAAAAIe7QAAAAADAFdRAAAAAAIDKzkAAAAAAAGy5QAAAAABALuRAAAAAAKDt5EAAAAAAACfPQAAAAADAYNZAAAAAACDN40AAAAAAADajQAAAAACA4M1AAAAAAICrzkAAAAAAgOfjQAAAAACACMBAAAAAAACUmUAAAAAAAHS5QAAAAAAAn7RAAAAAAIDcwUAAAAAAAKXKQAAAAAAAosxAAAAAAMA+8UAAAAAAABPNQAAAAAAAXJZAAAAAAACohkAAAAAAAKKjQAAAAAAAFqRAAAAAAKDo40AAAAAAAHW3QAAAAAAAhJ5AAAAAAADB0kAAAAAAAGvCQAAAAACADMVAAAAAAABIlkAAAAAAAMCDQAAAAAAAnbVAAAAAAAARyEAAAAAAAJimQAAAAABAhdNAAAAAAEAL0kAAAAAAYHrgQAAAAACg/uRAAAAAAADSpEAAAAAAgEPEQAAAAACAL8JAAAAAAIC7xEAAAAAAAEW8QAAAAADgz+BAAAAAAADskEAAAAAAgDPVQAAAAAAA5JBAAAAAAAC6u0AAAAAAIEDjQAAAAAAg8eFAAAAAAAA3z0AAAAAAAAyaQAAAAAAAMrdAAAAAAADX40AAAAAAACaoQAAAAACAgdxAAAAAAADVxUAAAAAAAMG6QAAAAAAAhJJAAAAAAABglUAAAAAAAKa1QAAAAAAAuJdAAAAAAACusEAAAAAAgIvVQAAAAAAg8+JAAAAAAADDsUAAAAAAAJnAQAAAAAAAldBAAAAAAAAVyEAAAAAAgGrlQAAAAABA0dxAAAAAACB14UAAAAAAAFnAQAAAAACAzOBAAAAAAAD8xUAAAAAAQCTTQAAAAAAAjqNAAAAAAAAEm0AAAAAAUGbyQAAAAAAAudFAAAAAAIDDz0AAAAAAAHahQAAAAAAAiIVAAAAAAECN3UAAAAAAgEXUQAAAAACwQPZAAAAAAIDVxUAAAAAAALiVQAAAAAAACIdAAAAAAIDr00AAAAAAAM3GQAAAAAAAAJpAAAAAAIBA20AAAAAAAHSrQAAAAAAAxqlAAAAAAIB3zkAAAAAAADLOQAAAAAAAEqpAAAAAAACqrkAAAAAAABy+QAAAAAAArMpAAAAAAABCuUAAAAAAABCNQAAAAAAACqhAAAAAAIB4wEAAAAAAADyfQAAAAABgYuZAAAAAAAAU30AAAAAAAPyuQAAAAAAASIpAAAAAAAD6s0AAAAAAQLzuQAAAAACABOhAAAAAAAB8sEAAAAAAgCTNQAAAAAAA5qBAAAAAAABgu0AAAAAAgF3DQAAAAAAA7rVAAAAAAADU1EAAAAAAQMDaQAAAAAAAP/9AAAAAAAB+0EAAAAAAACjVQAAAAAAAuJNAAAAAAAAdtUAAAAAAAG6lQAAAAADAQ+ZAAAAAAAAMoUAAAAAAgAbIQAAAAAAA49NAAAAAAAAMlUAAAAAAgJfxQAAAAACA3ddAAAAAAEC220AAAAAAAOybQAAAAAAAMINAAAAAAICbx0AAAAAAAPytQAAAAABAHOBAAAAAAACUvUAAAAAAAKSpQAAAAACA+stAAAAAAADmtkAAAAAAQPLkQAAAAADgdOpAAAAAAADLuUAAAAAAoBXjQAAAAAAAfKBAAAAAAAC+oEAAAAAAAAvJQAAAAAAAxJtAAAAAAAB4k0AAAAAAAFGzQAAAAABAotxAAAAAAIBVxEAAAAAAgEjQQAAAAAAAmMNAAAAAAACsl0AAAAAAAKS+QAAAAACAqOtAAAAAAACy4UAAAAAAoBvoQAAAAADAsdBAAAAAAABZsEAAAAAAAAinQAAAAAAAJtBAAAAAAACGsUAAAAAAAEOwQAAAAAAA9qpAAAAAAAAwl0A=\",\"dtype\":\"float64\",\"shape\":[178]},\"y\":{\"__ndarray__\":\"ZmZmZmZmS0DNzMzMzMxSQJqZmZmZ+VJAzczMzMzsVEAzMzMzM7NNQM3MzMzMzFJAMzMzMzPzUkCamZmZmTlSQM3MzMzMbFRAAAAAAAAgVECamZmZmdlRQJqZmZmZGVJAzczMzMyMU0BmZmZmZiZRQJqZmZmZ2VJAzczMzMyMUUAzMzMzM/NTQGZmZmZmhlFAAAAAAAAAUEAzMzMzMxNRQDMzMzMz01FAAAAAAAAgU0AAAAAAACBQQM3MzMzMjFJAAAAAAACgU0BmZmZmZmZSQJqZmZmZWU5AmpmZmZlZTUCamZmZmblQQAAAAAAAwExAZmZmZmZGVECamZmZmVlSQJqZmZmZGUxAMzMzMzOzU0CamZmZmflSQDMzMzMz01JAAAAAAACAT0BmZmZmZiZMQGZmZmZmJk5AZmZmZmbmU0CamZmZmZlMQM3MzMzMTFNAAAAAAACAU0BmZmZmZmZUQDMzMzMz01NAZmZmZmbmTkCamZmZmZlSQM3MzMzMjFJAMzMzMzOTUUAzMzMzM3NSQJqZmZmZmUxAAAAAAACATkAzMzMzM/NSQAAAAAAAgE5AmpmZmZl5UEAAAAAAAABUQM3MzMzMTFRAAAAAAADATEAAAAAAAIBPQJqZmZmZGVJAzczMzMwMVEAAAAAAAMBPQGZmZmZm5lNAzczMzMzMUUAzMzMzM7NRQM3MzMzMjE1AAAAAAAAASkBmZmZmZqZPQAAAAAAAgEJAMzMzMzPTUUDNzMzMzKxSQAAAAAAAoFRAZmZmZmZGUEAzMzMzM3NRQJqZmZmZeVNAMzMzMzMTUUCamZmZmflTQAAAAAAAYFRAmpmZmZl5VEAAAAAAAOBSQAAAAAAAwFRAZmZmZmZmU0BmZmZmZsZQQM3MzMzMjE9AAAAAAADATkBmZmZmZsZTQAAAAAAAgFJAAAAAAACAU0AzMzMzM7NHQJqZmZmZ2U5AZmZmZmbmUkCamZmZmXlSQAAAAAAAQFRAMzMzMzPzUkBmZmZmZuZPQGZmZmZm5kpAMzMzMzOTUkCamZmZmblTQAAAAAAAQExAMzMzMzNzVEBmZmZmZgZQQM3MzMzMDFBAmpmZmZkZUkDNzMzMzOxSQJqZmZmZmVBAzczMzMyMUUBmZmZmZuZPQM3MzMzMzFJAzczMzMxsUkCamZmZmdlLQAAAAAAAgFBAAAAAAADATUAAAAAAAGBRQAAAAAAAIFRAAAAAAAAgVEAzMzMzM/NSQJqZmZmZWU5AZmZmZmZmTUCamZmZmTlUQAAAAAAAwFJAzczMzMwsUEDNzMzMzExTQJqZmZmZWU1AmpmZmZlZUkAzMzMzMzNTQM3MzMzMbFFAZmZmZmYGU0AAAAAAAOBTQDMzMzMzU1RAAAAAAACAUkDNzMzMzCxRQJqZmZmZ2U9AZmZmZmbmUUBmZmZmZuZQQM3MzMzMbFNAAAAAAABAUEAAAAAAAEBTQDMzMzMzM1JAAAAAAABATEAAAAAAAGBUQAAAAAAA4FJAAAAAAADgU0AAAAAAAIBPQDMzMzMzc0xAmpmZmZlZTEAAAAAAAEBMQGZmZmZmZlRAzczMzMzsUkAAAAAAAABRQAAAAAAAYFFAZmZmZmbmR0AAAAAAAGBUQDMzMzMzk1RAzczMzMwsU0AzMzMzM7NTQJqZmZmZeVFAMzMzMzNzTkBmZmZmZqZSQDMzMzMzc1FAAAAAAACATkBmZmZmZoZRQGZmZmZmxlFAMzMzMzMzU0DNzMzMzOxSQGZmZmZmplBAMzMzMzMzTUCamZmZmZlRQM3MzMzMDFNAAAAAAAAAVEAAAAAAAKBTQAAAAAAAIFNAZmZmZmZGUUAAAAAAAABQQM3MzMzMrFJAMzMzMzPzUkAAAAAAAIBSQM3MzMzMDEtAMzMzMzMzSUA=\",\"dtype\":\"float64\",\"shape\":[178]}}},\"id\":\"ed5977b8-ae09-499d-8c3c-9c1de2b09870\",\"type\":\"ColumnDataSource\"},{\"attributes\":{},\"id\":\"50cc4996-2419-4cb0-9a63-3743a3638dac\",\"type\":\"BasicTicker\"},{\"attributes\":{\"dimension\":1,\"plot\":{\"id\":\"98c81c85-8fd0-43b4-98bf-81279ed6f38e\",\"subtype\":\"Figure\",\"type\":\"Plot\"},\"ticker\":{\"id\":\"50cc4996-2419-4cb0-9a63-3743a3638dac\",\"type\":\"BasicTicker\"}},\"id\":\"14445592-6b45-4d93-8bfe-e4cf9eb3b90c\",\"type\":\"Grid\"},{\"attributes\":{\"factors\":[\"South Asia\",\"Europe & Central Asia\",\"Middle East & North Africa\",\"Sub-Saharan Africa\",\"America\",\"East Asia & Pacific\"],\"palette\":[\"#3288bd\",\"#99d594\",\"#e6f598\",\"#fee08b\",\"#fc8d59\",\"#d53e4f\"]},\"id\":\"fb890cd6-e22e-4395-96d3-9bb0cd09bb5f\",\"type\":\"CategoricalColorMapper\"},{\"attributes\":{},\"id\":\"ce51d6ac-9dc2-400f-876d-93192c3b1089\",\"type\":\"BasicTickFormatter\"},{\"attributes\":{\"fill_alpha\":{\"value\":0.6},\"fill_color\":{\"field\":\"region\",\"transform\":{\"id\":\"fb890cd6-e22e-4395-96d3-9bb0cd09bb5f\",\"type\":\"CategoricalColorMapper\"}},\"line_alpha\":{\"value\":0.6},\"line_color\":{\"field\":\"region\",\"transform\":{\"id\":\"fb890cd6-e22e-4395-96d3-9bb0cd09bb5f\",\"type\":\"CategoricalColorMapper\"}},\"size\":{\"field\":\"population\",\"transform\":{\"id\":\"7b05718f-4b9d-42e8-9c58-d50bcc813c47\",\"type\":\"LinearInterpolator\"},\"units\":\"screen\"},\"x\":{\"field\":\"x\"},\"y\":{\"field\":\"y\"}},\"id\":\"09966996-7dc1-49c9-ba44-e25410db2442\",\"type\":\"Circle\"},{\"attributes\":{\"callback\":null,\"show_arrow\":false,\"tooltips\":[[\"Country\",\"@country\"],[\"Income\",\"@x\"],[\"Life\",\"@y\"]]},\"id\":\"cac6beac-909c-4d06-9433-c8e6b393b968\",\"type\":\"HoverTool\"},{\"attributes\":{\"fill_alpha\":{\"value\":0.1},\"fill_color\":{\"value\":\"#1f77b4\"},\"line_alpha\":{\"value\":0.1},\"line_color\":{\"value\":\"#1f77b4\"},\"size\":{\"field\":\"population\",\"transform\":{\"id\":\"7b05718f-4b9d-42e8-9c58-d50bcc813c47\",\"type\":\"LinearInterpolator\"},\"units\":\"screen\"},\"x\":{\"field\":\"x\"},\"y\":{\"field\":\"y\"}},\"id\":\"833a33f0-9052-4f2c-b35d-7abf23cace8e\",\"type\":\"Circle\"},{\"attributes\":{\"format\":\"0$,\"},\"id\":\"201f7aca-74c5-4ef8-8ba6-20c7892f842e\",\"type\":\"NumeralTickFormatter\"},{\"attributes\":{\"data_source\":{\"id\":\"ed5977b8-ae09-499d-8c3c-9c1de2b09870\",\"type\":\"ColumnDataSource\"},\"glyph\":{\"id\":\"09966996-7dc1-49c9-ba44-e25410db2442\",\"type\":\"Circle\"},\"hover_glyph\":null,\"muted_glyph\":null,\"nonselection_glyph\":{\"id\":\"833a33f0-9052-4f2c-b35d-7abf23cace8e\",\"type\":\"Circle\"},\"selection_glyph\":null,\"view\":{\"id\":\"807caba6-394c-4b3e-a8a5-2266fb8e52cc\",\"type\":\"CDSView\"}},\"id\":\"104b2f27-8eb6-4bd0-8614-b280fd12411a\",\"type\":\"GlyphRenderer\"},{\"attributes\":{\"below\":[{\"id\":\"ebe777a8-47e2-46f5-92a0-fb30e6617375\",\"type\":\"LogAxis\"}],\"left\":[{\"id\":\"1954169f-48b3-4944-9027-b5f5d219b16f\",\"type\":\"LinearAxis\"}],\"plot_height\":250,\"renderers\":[{\"id\":\"ebe777a8-47e2-46f5-92a0-fb30e6617375\",\"type\":\"LogAxis\"},{\"id\":\"ddafbe16-6b6b-4a31-9518-4dd8b7702eb1\",\"type\":\"Grid\"},{\"id\":\"1954169f-48b3-4944-9027-b5f5d219b16f\",\"type\":\"LinearAxis\"},{\"id\":\"14445592-6b45-4d93-8bfe-e4cf9eb3b90c\",\"type\":\"Grid\"},{\"id\":\"71281ad0-85f9-4823-90bf-37f116458aa9\",\"type\":\"Legend\"},{\"id\":\"104b2f27-8eb6-4bd0-8614-b280fd12411a\",\"type\":\"GlyphRenderer\"}],\"right\":[{\"id\":\"71281ad0-85f9-4823-90bf-37f116458aa9\",\"type\":\"Legend\"}],\"title\":{\"id\":\"26371d36-808a-4eab-8d7b-199097661109\",\"type\":\"Title\"},\"toolbar\":{\"id\":\"12503970-172e-4d4a-bb16-7fcf4bd7a60f\",\"type\":\"Toolbar\"},\"toolbar_location\":\"above\",\"x_range\":{\"id\":\"6d94beff-4b5c-4a2c-9162-d96665f2c09d\",\"type\":\"Range1d\"},\"x_scale\":{\"id\":\"b97049e9-60b6-4a70-ac91-32ad2c0c1038\",\"type\":\"LogScale\"},\"y_range\":{\"id\":\"99a43e7f-86f1-4c13-b8cb-7359d4a8cfe3\",\"type\":\"Range1d\"},\"y_scale\":{\"id\":\"14b22c50-6bfe-4a2e-880c-00b5c04c9760\",\"type\":\"LinearScale\"}},\"id\":\"98c81c85-8fd0-43b4-98bf-81279ed6f38e\",\"subtype\":\"Figure\",\"type\":\"Plot\"},{\"attributes\":{\"source\":{\"id\":\"ed5977b8-ae09-499d-8c3c-9c1de2b09870\",\"type\":\"ColumnDataSource\"}},\"id\":\"807caba6-394c-4b3e-a8a5-2266fb8e52cc\",\"type\":\"CDSView\"},{\"attributes\":{\"plot\":null,\"text\":\"2010 income vs life expectancy\"},\"id\":\"26371d36-808a-4eab-8d7b-199097661109\",\"type\":\"Title\"}],\"root_ids\":[\"98c81c85-8fd0-43b4-98bf-81279ed6f38e\"]},\"title\":\"Bokeh Application\",\"version\":\"0.12.10\"}};\n",
       "    var render_items = [{\"docid\":\"f1ecc2b4-44fd-4e3d-911c-61c1369b4168\",\"elementid\":\"81d55448-2a8b-4449-b93f-8398b67a2e1e\",\"modelid\":\"98c81c85-8fd0-43b4-98bf-81279ed6f38e\",\"notebook_comms_target\":\"8ccbc6b9-c7d7-4958-8e4e-9b7d8cb67c64\"}];\n",
       "\n",
       "    root.Bokeh.embed.embed_items(docs_json, render_items);\n",
       "  }\n",
       "\n",
       "  if (root.Bokeh !== undefined) {\n",
       "    embed_document(root);\n",
       "  } else {\n",
       "    var attempts = 0;\n",
       "    var timer = setInterval(function(root) {\n",
       "      if (root.Bokeh !== undefined) {\n",
       "        embed_document(root);\n",
       "        clearInterval(timer);\n",
       "      }\n",
       "      attempts++;\n",
       "      if (attempts > 100) {\n",
       "        console.log(\"Bokeh: ERROR: Unable to embed document because BokehJS library is missing\")\n",
       "        clearInterval(timer);\n",
       "      }\n",
       "    }, 10, root)\n",
       "  }\n",
       "})(window);"
      ],
      "application/vnd.bokehjs_exec.v0+json": ""
     },
     "metadata": {
      "application/vnd.bokehjs_exec.v0+json": {
       "id": "98c81c85-8fd0-43b4-98bf-81279ed6f38e"
      }
     },
     "output_type": "display_data"
    },
    {
     "data": {
      "text/html": [
       "<p><code>&lt;Bokeh Notebook handle for <strong>In[5]</strong>&gt;</code></p>"
      ],
      "text/plain": [
       "<bokeh.io.notebook.CommsHandle at 0x17fa6f67320>"
      ]
     },
     "execution_count": 5,
     "metadata": {},
     "output_type": "execute_result"
    }
   ],
   "source": [
    "from bokeh.palettes import Spectral6\n",
    "from bokeh.models import HoverTool\n",
    "from bokeh.models import LinearInterpolator, CategoricalColorMapper\n",
    "from bokeh.models import ColumnDataSource\n",
    "\n",
    "\n",
    "\n",
    "size_mapper = LinearInterpolator(     #this is to give size for each data point according to their population\n",
    "    x=[data.population.min(), data.population.max()],\n",
    "    y = [5,50]\n",
    ")\n",
    "\n",
    "#to see changes done every year\n",
    "from ipywidgets import interact\n",
    "from bokeh.io import push_notebook\n",
    "\n",
    "\n",
    "source = ColumnDataSource(dict(\n",
    "    x= data.loc[2010].income,  #x-axis of data\n",
    "    y= data.loc[2010].life,    #y-axis of data\n",
    "    country = data.loc[2010].Country,    #country\n",
    "    population = data.loc[2010].population,\n",
    "    region = data.loc[2010].region,\n",
    "    income = data.loc[2010].income\n",
    "    ))\n",
    "\n",
    "\n",
    "def update (year):\n",
    "    new_data = dict(\n",
    "        x= data.loc[year].income,\n",
    "        y=data.loc[year].life,\n",
    "        country = data.loc[year].Country,\n",
    "        region = data.loc[year].region,\n",
    "        population = data.loc[year].population,\n",
    "    )\n",
    "    source.data = new_data #updating the source data with the newdata i.e data of each year for sliding tool\n",
    "    p.title.text = str(year)  #updating the title \n",
    "    push_notebook() #push this into chart\n",
    "\n",
    "\n",
    "\n",
    "#to give color to each type of data point\n",
    "color_mapper = CategoricalColorMapper(\n",
    "   factors = list(data.region.unique()),  #this tells the compiler to color the continents\n",
    "  palette = Spectral6,)\n",
    "\n",
    "\n",
    "hover = HoverTool(tooltips = [(\"Country\",\"@country\"),(\"Income\",\"@x\"), (\"Life\",\"@y\")], #when u hover mouse on data points\n",
    "                  show_arrow=False)\n",
    "\n",
    "\n",
    "PLOT_OPTS = dict(     #the dimensions of figure is given\n",
    "    height =250, \n",
    "    x_axis_type='log',\n",
    "    x_range=[data.income.min(), data.income.max()],\n",
    "    y_range=(15,90)\n",
    ")\n",
    "\n",
    "\n",
    "p = figure( #how do u want the overall dimensions of fig\n",
    "    title = str('2010 income vs life expectancy'),toolbar_location='above',  #title should always be in string format\n",
    "    title_location = 'above',\n",
    "    tools=[hover],\n",
    "    **PLOT_OPTS)\n",
    "\n",
    "\n",
    "p.circle(\n",
    "    x='x',y='y', #these have been wriiten before and is being called for the sake of hovering to work and is defined in update function\n",
    "    size={'field':'population', 'transform': size_mapper},  #we cant use the size of data point as population as the china population is one billion and all the pixels gets filled and hence we use a mapper and give the rangee of X and y axis\n",
    "    color = {'field':'region','transform':color_mapper}, #this will color all the regions defined by color_mapper\n",
    "    legend='region', #a legend of which color is what continent\n",
    "    source=source,  #what is the data source\n",
    "    alpha=0.6) #how much of transparency of data pojint\n",
    "\n",
    "p.xaxis[0].formatter = NumeralTickFormatter(format='0$,') #xaxis labels\n",
    "p.legend.border_line_color = None  #to remove the border\n",
    "p.legend.location = (0,-70)  #this is going to take legend out of the chart box\n",
    "p.right.append(p.legend[0]) #this is going to place the legend to the right\n",
    "show(p, notebook_handle=True) #notebook_handle will take the consideration of viewing each year that we defined in update\n"
   ]
  },
  {
   "cell_type": "code",
   "execution_count": 6,
   "metadata": {},
   "outputs": [
    {
     "data": {
      "text/plain": [
       "<function __main__.update>"
      ]
     },
     "execution_count": 6,
     "metadata": {},
     "output_type": "execute_result"
    }
   ],
   "source": [
    "#to see changes done every year, creating a interact sliding bar\n",
    "from ipywidgets import interact\n",
    "from bokeh.io import push_notebook\n",
    "\n",
    "def update (year):\n",
    "    new_data = dict(\n",
    "        x= data.loc[year].income,\n",
    "        y=data.loc[year].life,\n",
    "        country = data.loc[year].Country,\n",
    "        region = data.loc[year].region,\n",
    "        population = data.loc[year].population,\n",
    "    )\n",
    "    source.data = new_data\n",
    "    p.title.text = str(year)\n",
    "    push_notebook()\n",
    "\n",
    "interact(update, year=(1800,2014,1))"
   ]
  },
  {
   "cell_type": "code",
   "execution_count": 7,
   "metadata": {},
   "outputs": [
    {
     "data": {
      "text/plain": [
       "<function __main__.update>"
      ]
     },
     "execution_count": 7,
     "metadata": {},
     "output_type": "execute_result"
    }
   ],
   "source": [
    "interact(update, year=(1800,2014,1)) #create a bar from year 1800 to 2014 "
   ]
  },
  {
   "cell_type": "code",
   "execution_count": 44,
   "metadata": {
    "extensions": {
     "jupyter_dashboards": {
      "version": 1,
      "views": {
       "grid_default": {
        "hidden": true
       },
       "report_default": {}
      }
     }
    }
   },
   "outputs": [],
   "source": []
  }
 ],
 "metadata": {
  "anaconda-cloud": {},
  "extensions": {
   "jupyter_dashboards": {
    "activeView": "grid_default",
    "version": 1,
    "views": {
     "grid_default": {
      "cellMargin": 10,
      "defaultCellHeight": 20,
      "maxColumns": 12,
      "name": "grid",
      "type": "grid"
     },
     "report_default": {
      "name": "report",
      "type": "report"
     }
    }
   }
  },
  "kernelspec": {
   "display_name": "Python [conda root]",
   "language": "python",
   "name": "conda-root-py"
  },
  "language_info": {
   "codemirror_mode": {
    "name": "ipython",
    "version": 3
   },
   "file_extension": ".py",
   "mimetype": "text/x-python",
   "name": "python",
   "nbconvert_exporter": "python",
   "pygments_lexer": "ipython3",
   "version": "3.6.3"
  }
 },
 "nbformat": 4,
 "nbformat_minor": 1
}
